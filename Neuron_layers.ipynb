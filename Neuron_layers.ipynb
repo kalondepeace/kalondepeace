{
  "nbformat": 4,
  "nbformat_minor": 0,
  "metadata": {
    "colab": {
      "provenance": [],
      "collapsed_sections": [],
      "authorship_tag": "ABX9TyP8UbulP83WkROvMcql/MUa"
    },
    "kernelspec": {
      "name": "python3",
      "display_name": "Python 3"
    },
    "language_info": {
      "name": "python"
    }
  },
  "cells": [
    {
      "cell_type": "code",
      "execution_count": 14,
      "metadata": {
        "id": "eO6yJjT8mKoa"
      },
      "outputs": [],
      "source": [
        "import tensorflow as tf\n",
        "import numpy as np\n",
        "import matplotlib.pyplot as plt\n",
        "from tensorflow import keras"
      ]
    },
    {
      "cell_type": "code",
      "source": [
        "my_layer_1 = keras.layers.Dense(units=2 , input_shape= [1])\n",
        "my_layer_2 = keras.layers.Dense(units=1)\n",
        "model = tf.keras.Sequential([my_layer_1, my_layer_2])\n",
        "model.compile(optimizer='sgd' , loss='mean_squared_error')\n",
        "#teaching the neuron equation Wx+b\n",
        "\n",
        "xs = np.array([1.0,3.1,2.4,2.3],dtype=float)\n",
        "ys = np.array([2.1,3.2,4.5,6.7],dtype=float)\n",
        "#epoch ,the number of times the neuron will learn and execute\n",
        "model.fit(xs, ys, epochs=5 )\n",
        "\n"
      ],
      "metadata": {
        "id": "C8hST8yDnIGh"
      },
      "execution_count": null,
      "outputs": []
    },
    {
      "cell_type": "code",
      "source": [
        "#predicting the value of x\n",
        "print(model.predict([10.1]))\n",
        "#gives result of weights of the value of w and that of b\n",
        "print(my_layer_1.get_weights())\n"
      ],
      "metadata": {
        "id": "7r3xpCkV2GlA"
      },
      "execution_count": null,
      "outputs": []
    }
  ]
}