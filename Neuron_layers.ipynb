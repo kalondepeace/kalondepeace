{
  "nbformat": 4,
  "nbformat_minor": 0,
  "metadata": {
    "colab": {
      "provenance": [],
      "collapsed_sections": [],
      "authorship_tag": "ABX9TyON0xV+Ke7l1jLYSFY6SDZb",
      "include_colab_link": true
    },
    "kernelspec": {
      "name": "python3",
      "display_name": "Python 3"
    },
    "language_info": {
      "name": "python"
    }
  },
  "cells": [
    {
      "cell_type": "markdown",
      "metadata": {
        "id": "view-in-github",
        "colab_type": "text"
      },
      "source": [
        "<a href=\"https://colab.research.google.com/github/kalondepeace/kalondepeace/blob/main/Neuron_layers.ipynb\" target=\"_parent\"><img src=\"https://colab.research.google.com/assets/colab-badge.svg\" alt=\"Open In Colab\"/></a>"
      ]
    },
    {
      "cell_type": "code",
      "execution_count": 14,
      "metadata": {
        "id": "eO6yJjT8mKoa"
      },
      "outputs": [],
      "source": [
        "import tensorflow as tf\n",
        "import numpy as np\n",
        "import matplotlib.pyplot as plt\n",
        "from tensorflow import keras"
      ]
    },
    {
      "cell_type": "code",
      "source": [
        "my_layer_1 = keras.layers.Dense(units=2 , input_shape= [1])\n",
        "my_layer_2 = keras.layers.Dense(units=1)\n",
        "model = tf.keras.Sequential([my_layer_1, my_layer_2])\n",
        "model.compile(optimizer='sgd' , loss='mean_squared_error')\n",
        "#teaching the neuron equation Wx+b\n",
        "\n",
        "xs = np.array([1.0,3.1,2.4,2.3],dtype=float)\n",
        "ys = np.array([2.1,3.2,4.5,6.7],dtype=float)\n",
        "#epoch ,the number of times the neuron will learn and execute\n",
        "model.fit(xs, ys, epochs=500 )"
      ],
      "metadata": {
        "id": "C8hST8yDnIGh"
      },
      "execution_count": null,
      "outputs": []
    },
    {
      "cell_type": "code",
      "source": [
        "\n",
        "#gives result of weights of the value of w and that of b\n",
        "print(my_layer_1.get_weights())\n"
      ],
      "metadata": {
        "id": "7r3xpCkV2GlA"
      },
      "execution_count": null,
      "outputs": []
    },
    {
      "cell_type": "code",
      "source": [
        "#neuron_2 has two inputs ,so eqn is w1*x1+w2*x2+b\n",
        "print(my_layer_2.get_weights())"
      ],
      "metadata": {
        "id": "REqRPBlr6Xxo"
      },
      "execution_count": null,
      "outputs": []
    },
    {
      "cell_type": "code",
      "source": [
        "value_to_predict = 10.0\n",
        "layer1_w1 = (my_layer_1.get_weights()[0][0][0])\n",
        "\n",
        "layer1_w2 = (my_layer_1.get_weights()[0][0][1])\n",
        "layer1_b1 = (my_layer_1.get_weights()[1][0])\n",
        "layer1_b2 = (my_layer_1.get_weights()[1][1])\n",
        "\n",
        "layer2_w1 = (my_layer_2.get_weights()[0][0])\n",
        "layer2_w2 = (my_layer_2.get_weights()[0][1])\n",
        "layer2_b = (my_layer_2.get_weights()[1][0])\n",
        "\n",
        "neuron1_output = (layer1_w1 * value_to_predict) + layer1_b1\n",
        "\n",
        "neuron2_output = (layer1_w2 * value_to_predict) + layer1_b2\n",
        "\n",
        "neuron3_output = (layer2_w1 * neuron1_output) + (layer2_w2 * neuron2_output) + layer2_b\n",
        "print(neuron3_output)\n"
      ],
      "metadata": {
        "id": "5JHzFamu8TLp"
      },
      "execution_count": null,
      "outputs": []
    }
  ]
}